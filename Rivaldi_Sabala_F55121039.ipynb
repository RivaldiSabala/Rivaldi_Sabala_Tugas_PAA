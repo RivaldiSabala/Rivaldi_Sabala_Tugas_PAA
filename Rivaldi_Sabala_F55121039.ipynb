{
  "nbformat": 4,
  "nbformat_minor": 0,
  "metadata": {
    "colab": {
      "provenance": []
    },
    "kernelspec": {
      "name": "python3",
      "display_name": "Python 3"
    },
    "language_info": {
      "name": "python"
    }
  },
  "cells": [
    {
      "cell_type": "markdown",
      "source": [
        "Rivaldi Sabala\n",
        "\n",
        "F55121039\n",
        "\n",
        "Kelas B\n",
        "\n",
        "\n",
        "Bubble Sort\n",
        "\n",
        "Bubble Sort adalah algoritma pengurutan sederhana yang bekerja dengan membandingkan dan menukar secara berulang pasangan elemen adjacent dalam suatu array, hingga seluruh array terurut. Nama \"Bubble\" diberikan karena elemen-elemen yang lebih besar akan \"muncul\" (bubble up) ke arah akhir array seiring dengan proses pengurutan."
      ],
      "metadata": {
        "id": "MmTqJDWJ7KIP"
      }
    },
    {
      "cell_type": "code",
      "execution_count": null,
      "metadata": {
        "colab": {
          "base_uri": "https://localhost:8080/"
        },
        "id": "ZE8m1lx46xso",
        "outputId": "361da4df-9479-4b7c-9780-b0c61a01338d"
      },
      "outputs": [
        {
          "output_type": "stream",
          "name": "stdout",
          "text": [
            "Array awal: [93, 17, 40, 12, 7, 11, 50]\n",
            "Iterasi ke- 1 : [17, 40, 12, 7, 11, 50, 93]\n",
            "Iterasi ke- 2 : [17, 12, 7, 11, 40, 50, 93]\n",
            "Iterasi ke- 3 : [12, 7, 11, 17, 40, 50, 93]\n",
            "Iterasi ke- 4 : [7, 11, 12, 17, 40, 50, 93]\n",
            "Iterasi ke- 5 : [7, 11, 12, 17, 40, 50, 93]\n",
            "Iterasi ke- 6 : [7, 11, 12, 17, 40, 50, 93]\n",
            "Hasil setelah Bubble Sort:\n",
            "7\n",
            "11\n",
            "12\n",
            "17\n",
            "40\n",
            "50\n",
            "93\n"
          ]
        }
      ],
      "source": [
        "def bubbleSort(arr):\n",
        "    n = len(arr)\n",
        "    \n",
        "    for i in range(n-1):\n",
        "        for j in range(0, n-i-1):\n",
        "            if arr[j] > arr[j+1]:\n",
        "                arr[j], arr[j+1] = arr[j+1], arr[j]\n",
        "\n",
        "        print(\"Iterasi ke-\", i+1, \":\", arr)\n",
        "        \n",
        "# Contoh penggunaan\n",
        "arr = [93, 17, 40, 12, 7, 11, 50]\n",
        "print(\"Array awal:\", arr)\n",
        "\n",
        "bubbleSort(arr)\n",
        "\n",
        "print(\"Hasil setelah Bubble Sort:\")\n",
        "for i in range(len(arr)):\n",
        "    print(arr[i])"
      ]
    },
    {
      "cell_type": "markdown",
      "source": [
        "Insertion Sort\n",
        "\n",
        "insertion Sort adalah algoritma pengurutan sederhana yang bekerja dengan membagi array menjadi dua bagian: bagian yang sudah terurut dan bagian yang belum terurut. Pada setiap iterasi, algoritma memilih satu elemen dari bagian yang belum terurut dan memasukkannya ke posisi yang tepat dalam bagian yang sudah terurut."
      ],
      "metadata": {
        "id": "bajAOSxH8rXd"
      }
    },
    {
      "cell_type": "code",
      "source": [
        "def insertionSort(arr):\n",
        "    for i in range(1, len(arr)):\n",
        "        key = arr[i]\n",
        "        j = i - 1\n",
        "        while j >= 0 and arr[j] > key:\n",
        "            arr[j + 1] = arr[j]\n",
        "            j -= 1\n",
        "        arr[j + 1] = key\n",
        "\n",
        "        print(\"Iterasi ke-\", i, \":\", arr)\n",
        "        \n",
        "# Contoh penggunaan\n",
        "arr = [14, 7, 4, 12, 9, 71, 87]\n",
        "insertionSort(arr)\n",
        "\n",
        "print(\"Hasil setelah Insertion Sort:\")\n",
        "for i in range(len(arr)):\n",
        "    print(arr[i])"
      ],
      "metadata": {
        "colab": {
          "base_uri": "https://localhost:8080/"
        },
        "id": "alBicBtw8X4F",
        "outputId": "829ca573-98b3-4354-c0f1-19f8824ce9a1"
      },
      "execution_count": null,
      "outputs": [
        {
          "output_type": "stream",
          "name": "stdout",
          "text": [
            "Iterasi ke- 1 : [7, 14, 4, 12, 9, 71, 87]\n",
            "Iterasi ke- 2 : [4, 7, 14, 12, 9, 71, 87]\n",
            "Iterasi ke- 3 : [4, 7, 12, 14, 9, 71, 87]\n",
            "Iterasi ke- 4 : [4, 7, 9, 12, 14, 71, 87]\n",
            "Iterasi ke- 5 : [4, 7, 9, 12, 14, 71, 87]\n",
            "Iterasi ke- 6 : [4, 7, 9, 12, 14, 71, 87]\n",
            "Hasil setelah Insertion Sort:\n",
            "4\n",
            "7\n",
            "9\n",
            "12\n",
            "14\n",
            "71\n",
            "87\n"
          ]
        }
      ]
    },
    {
      "cell_type": "markdown",
      "source": [
        "\n",
        "Mana yang lebih optimal antara algoritma bubble sort dengan insertion sort?\n",
        "\n",
        "Dalam program yang telah diberikan, baik Bubble Sort maupun Insertion Sort memiliki kompleksitas waktu yang sama, yaitu O(n^2). Keduanya menggunakan dua perulangan bersarang untuk membandingkan dan menukar elemen dalam array. Dalam hal kinerja, pada umumnya Insertion Sort sedikit lebih efisien daripada Bubble Sort. Hal ini karena Insertion Sort hanya perlu memindahkan elemen yang lebih kecil ke posisi yang tepat dalam bagian yang sudah terurut, sedangkan Bubble Sort selalu melibatkan pertukaran tetangga elemen bahkan jika elemen tersebut sudah berada pada posisi yang benar. Namun, dalam kasus terbaik di mana array sudah terurut atau hampir terurut, Bubble Sort dapat memiliki kinerja yang lebih baik dibandingkan Insertion Sort. Bubble Sort akan berhenti jika tidak ada pertukaran yang dilakukan pada suatu iterasi, sementara Insertion Sort akan tetap melalui seluruh perulangan walaupun elemen sudah terurut dengan benar. Dalam konteks program yang diberikan, baik Bubble Sort maupun Insertion Sort akan memberikan hasil yang sama karena array tidak memiliki sifat khusus seperti hampir terurut atau terurut. Jadi, dalam hal ini, keduanya memiliki kinerja yang serupa dan tidak ada yang secara signifikan lebih optimal dari yang lain."
      ],
      "metadata": {
        "id": "UIbnq8RN9hs1"
      }
    }
  ]
}